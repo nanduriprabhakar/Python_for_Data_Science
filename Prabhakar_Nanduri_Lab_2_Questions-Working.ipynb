{
 "cells": [
  {
   "cell_type": "code",
   "execution_count": 1,
   "metadata": {
    "collapsed": true
   },
   "outputs": [],
   "source": [
    "## Question 1"
   ]
  },
  {
   "cell_type": "code",
   "execution_count": 2,
   "metadata": {},
   "outputs": [
    {
     "name": "stdout",
     "output_type": "stream",
     "text": [
      "enter the string value: string\n",
      "stng\n",
      "thank you\n"
     ]
    }
   ],
   "source": [
    "str1 = input('enter the string value: ')\n",
    "if len(str1) < 2:\n",
    "    print(\"String has less than 2 characters\")\n",
    "else:\n",
    "    print(str1[0:2] + str1[len(str1)-2 : len(str1)])\n",
    "print(\"thank you\")    \n"
   ]
  },
  {
   "cell_type": "code",
   "execution_count": null,
   "metadata": {
    "collapsed": true
   },
   "outputs": [],
   "source": [
    "## Question 2"
   ]
  },
  {
   "cell_type": "code",
   "execution_count": null,
   "metadata": {
    "collapsed": true
   },
   "outputs": [],
   "source": [
    "str2 = input('enter a string that has more than 5 characters ')\n",
    "str3 = ''\n",
    "if len(str2) < 5:\n",
    "    print(\"please enter a larger string\")\n",
    "else:\n",
    "    for index in range(len(str2)):\n",
    "        \n",
    "        str3 = str3 + str2[len(str2)-1-index]\n",
    "print(str3)\n",
    "print(\"thank you\")"
   ]
  },
  {
   "cell_type": "code",
   "execution_count": null,
   "metadata": {
    "collapsed": true
   },
   "outputs": [],
   "source": [
    "## Question 3"
   ]
  },
  {
   "cell_type": "code",
   "execution_count": null,
   "metadata": {
    "collapsed": true
   },
   "outputs": [],
   "source": [
    "str4 = input('enter a string for your choice ')\n",
    "str5 = ''\n",
    "for index in range(len(str4)):\n",
    "        ##str5 = str5 + str4[len(str4)-1-index]\n",
    "        if index == 0 or index == len(str4)-1:\n",
    "              str5 = str5 + str4[len(str4)-1-index]\n",
    "        else:\n",
    "              str5 = str5 + str4[index]\n",
    "print(str5)\n"
   ]
  },
  {
   "cell_type": "code",
   "execution_count": null,
   "metadata": {
    "collapsed": true
   },
   "outputs": [],
   "source": [
    "## Question 4"
   ]
  },
  {
   "cell_type": "code",
   "execution_count": null,
   "metadata": {
    "collapsed": true
   },
   "outputs": [],
   "source": [
    "list1 = [1,2,3,4,5,6,7,8,]\n",
    "sum = 0\n",
    "for index in range(len(list1)):\n",
    "        sum = sum + list1[index]\n",
    "print(sum)"
   ]
  },
  {
   "cell_type": "code",
   "execution_count": null,
   "metadata": {
    "collapsed": true
   },
   "outputs": [],
   "source": [
    "## Question 5"
   ]
  },
  {
   "cell_type": "code",
   "execution_count": null,
   "metadata": {
    "collapsed": true
   },
   "outputs": [],
   "source": [
    "sizeofarray = int(input('enter how many numbers you want in the array: '))\n",
    "arr = input('enter the numbers, space-separated that are to be filled in the array: ')\n",
    "list1 = list(map(int, arr.split(' ')))\n",
    "smallest = list1[0]\n",
    "largest = list1[len(list1)-1]\n",
    "countoflargest = 0\n",
    "for index in range(len(list1)):\n",
    "    if smallest > list1[index]:\n",
    "        smallest = list1[index]\n",
    "    if largest < list1[index]:\n",
    "        largest = list1[index]\n",
    "print('the smallest number is %f' % smallest)\n",
    "print('the largest number is %f' % largest)\n",
    "for index in range(len(list1)):\n",
    "    if largest == list1[index]:\n",
    "        countoflargest = countoflargest + 1\n",
    "print('the number of time the largest number occurs is %f' % countoflargest)\n"
   ]
  },
  {
   "cell_type": "code",
   "execution_count": null,
   "metadata": {
    "collapsed": true
   },
   "outputs": [],
   "source": [
    "## Question 6"
   ]
  },
  {
   "cell_type": "code",
   "execution_count": null,
   "metadata": {
    "collapsed": true
   },
   "outputs": [],
   "source": [
    "sizeofarray2 = int(input('enter the no.of elements in the array: '))\n",
    "arr = input('enter the elements in the array, space-separated: ')\n",
    "list2 = list(map(int, arr.split(' ')))\n",
    "list3 = []\n",
    "list2 = [x for x in list2 if x != 0]\n",
    "count = 0\n",
    "for index in range(len(list2)):\n",
    "    if list2[index] not in list3:\n",
    "        list3.append(list2[index])\n",
    "print(list3)\n",
    "        "
   ]
  },
  {
   "cell_type": "code",
   "execution_count": null,
   "metadata": {
    "collapsed": true
   },
   "outputs": [],
   "source": [
    "## Question 7"
   ]
  },
  {
   "cell_type": "code",
   "execution_count": 1,
   "metadata": {},
   "outputs": [
    {
     "name": "stdout",
     "output_type": "stream",
     "text": [
      "{1: 10, 2: 20, 3: 30, 4: 40, 5: 50, 6: 60}\n"
     ]
    }
   ],
   "source": [
    "dic1 = {1:10, 2:20}\n",
    "dic2 = {3:30, 4:40}\n",
    "dic3 = {5:50, 6:60}\n",
    "dict4 = {}\n",
    "dict4.update(dic1)\n",
    "dict4.update(dic2)\n",
    "dict4.update(dic3)\n",
    "print(dict4)\n"
   ]
  },
  {
   "cell_type": "code",
   "execution_count": null,
   "metadata": {
    "collapsed": true
   },
   "outputs": [],
   "source": [
    "## Question 8"
   ]
  },
  {
   "cell_type": "code",
   "execution_count": 10,
   "metadata": {},
   "outputs": [
    {
     "name": "stdout",
     "output_type": "stream",
     "text": [
      "126\n",
      "95\n"
     ]
    }
   ],
   "source": [
    "dict5 ={1:100, 2:125, 3:126, 4:95, 5:95}\n",
    "largest = 0\n",
    "import math\n",
    "smallest = math.inf\n",
    "for key in dict5:\n",
    "    if dict5.get(key) >= largest:\n",
    "        largest = dict5.get(key)\n",
    "    if dict5.get(key) <= smallest:\n",
    "        smallest = dict5.get(key)\n",
    "print(largest)\n",
    "print(smallest)"
   ]
  },
  {
   "cell_type": "code",
   "execution_count": 11,
   "metadata": {
    "collapsed": true
   },
   "outputs": [],
   "source": [
    "## Question 9"
   ]
  },
  {
   "cell_type": "code",
   "execution_count": 16,
   "metadata": {},
   "outputs": [
    {
     "name": "stdout",
     "output_type": "stream",
     "text": [
      "[100, 125, 126, 95]\n"
     ]
    }
   ],
   "source": [
    "dict6 = {1:100, 2:125, 3:126, 4:95, 5:95}\n",
    "arrayunique = [] \n",
    "for key in dict6:\n",
    "    if dict6.get(key) not in arrayunique:\n",
    "        arrayunique.append(dict6.get(key))\n",
    "print (arrayunique)\n",
    "    "
   ]
  },
  {
   "cell_type": "code",
   "execution_count": 4,
   "metadata": {},
   "outputs": [
    {
     "name": "stdout",
     "output_type": "stream",
     "text": [
      "[100, 125, 126, 95]\n"
     ]
    }
   ],
   "source": [
    "dict6 = {1:100,2:125,3:126,4:95,5:95}\n",
    "arrayunique = []\n",
    "for key in dict6:\n",
    "    if dict6.get(key) not in arrayunique:\n",
    "        arrayunique.append(dict6.get(key))\n",
    "print (arrayunique)"
   ]
  },
  {
   "cell_type": "code",
   "execution_count": null,
   "metadata": {
    "collapsed": true
   },
   "outputs": [],
   "source": []
  }
 ],
 "metadata": {
  "kernelspec": {
   "display_name": "Python 3",
   "language": "python",
   "name": "python3"
  },
  "language_info": {
   "codemirror_mode": {
    "name": "ipython",
    "version": 3
   },
   "file_extension": ".py",
   "mimetype": "text/x-python",
   "name": "python",
   "nbconvert_exporter": "python",
   "pygments_lexer": "ipython3",
   "version": "3.6.2"
  }
 },
 "nbformat": 4,
 "nbformat_minor": 2
}
