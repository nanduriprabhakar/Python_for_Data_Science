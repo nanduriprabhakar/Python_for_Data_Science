{
 "cells": [
  {
   "cell_type": "code",
   "execution_count": 97,
   "metadata": {},
   "outputs": [],
   "source": [
    "import pandas as pd\n",
    "import numpy as np\n",
    "from sklearn import preprocessing\n",
    "import matplotlib.pyplot as plt \n",
    "plt.rc(\"font\", size=14)\n",
    "from sklearn.linear_model import LogisticRegression\n",
    "from sklearn.metrics import roc_curve\n",
    "from sklearn.cross_validation import train_test_split\n",
    "import seaborn as sns\n",
    "sns.set(style=\"white\")\n",
    "sns.set(style=\"whitegrid\", color_codes=True)\n",
    "%matplotlib inline"
   ]
  },
  {
   "cell_type": "code",
   "execution_count": 36,
   "metadata": {},
   "outputs": [
    {
     "name": "stdout",
     "output_type": "stream",
     "text": [
      "     Unique Applicant ID   Outcomes: Default = 1   Age   Years at Employer  \\\n",
      "0                       1                      0 -0.26                0.11   \n",
      "1                       2                      1 -0.01                0.50   \n",
      "2                       3                      1  0.37                0.57   \n",
      "3                       4                      0 -0.73               -1.07   \n",
      "4                       5                      0 -0.25               -0.17   \n",
      "5                       6                      1  0.57               -0.60   \n",
      "6                       7                      0  1.48                1.22   \n",
      "7                       8                      0  0.89                1.08   \n",
      "8                       9                      0  1.48                0.49   \n",
      "9                      10                      0 -0.90                0.13   \n",
      "10                     11                      1  0.07               -1.12   \n",
      "11                     12                      0 -1.06               -0.65   \n",
      "12                     13                      1 -0.28               -0.18   \n",
      "13                     14                      0  1.73                2.03   \n",
      "14                     15                      0  2.09                2.66   \n",
      "15                     16                      0 -0.41               -0.11   \n",
      "16                     17                      0 -0.90               -0.13   \n",
      "17                     18                      1 -1.11               -0.87   \n",
      "18                     19                      0 -0.39                0.74   \n",
      "19                     20                      0  1.10               -0.89   \n",
      "20                     21                      0 -0.43               -0.73   \n",
      "21                     22                      0  0.33                1.83   \n",
      "22                     23                      0  0.89                0.86   \n",
      "23                     24                      0  1.39                2.53   \n",
      "24                     25                      1  1.80               -0.60   \n",
      "25                     26                      0 -1.16                0.10   \n",
      "26                     27                      0  0.61               -0.64   \n",
      "27                     28                      0 -0.47               -1.19   \n",
      "28                     29                      0  0.60               -1.10   \n",
      "29                     30                      0 -0.25               -0.74   \n",
      "..                    ...                    ...   ...                 ...   \n",
      "370                   371                      1 -0.67                0.75   \n",
      "371                   372                      1 -0.69               -0.97   \n",
      "372                   373                      1 -1.05               -1.18   \n",
      "373                   374                      0 -0.89                0.46   \n",
      "374                   375                      0  0.98               -0.61   \n",
      "375                   376                      0 -1.38               -0.65   \n",
      "376                   377                      0  2.25                0.74   \n",
      "377                   378                      0 -1.42               -1.14   \n",
      "378                   379                      0  1.18                2.01   \n",
      "379                   380                      1  0.61                0.43   \n",
      "380                   381                      1 -0.94               -1.24   \n",
      "381                   382                      0  1.32               -0.91   \n",
      "382                   383                      0 -0.55               -0.17   \n",
      "383                   384                      0  0.47                1.93   \n",
      "384                   385                      0  0.12                1.43   \n",
      "385                   386                      0 -0.26               -1.19   \n",
      "386                   387                      0  0.28                0.26   \n",
      "387                   388                      0  1.06                0.68   \n",
      "388                   389                      0  2.58                0.52   \n",
      "389                   390                      0  1.26                1.11   \n",
      "390                   391                      0 -0.71               -0.19   \n",
      "391                   392                      0 -1.13               -0.80   \n",
      "392                   393                      1 -0.05               -1.03   \n",
      "393                   394                      0  1.17                2.00   \n",
      "394                   395                      0  0.47                0.90   \n",
      "395                   396                      0  1.78                1.03   \n",
      "396                   397                      0 -1.35               -0.85   \n",
      "397                   398                      0 -0.25               -0.71   \n",
      "398                   399                      0  1.09                0.73   \n",
      "399                   400                      0  0.78               -0.34   \n",
      "\n",
      "     Years at Address  Income  Credit Card Debt   Automobile Debt  \n",
      "0               -0.78   -0.22              -0.01             0.21  \n",
      "1                1.14    0.36              -3.18            -1.51  \n",
      "2               -1.12    0.26              -2.11            -0.21  \n",
      "3                1.71   -0.60               0.51             0.53  \n",
      "4               -0.88   -0.49               0.53             0.80  \n",
      "5                2.02    3.63              -3.38            -6.56  \n",
      "6                0.35    0.54              -0.33            -0.29  \n",
      "7                3.27    1.45              -0.54             0.61  \n",
      "8               -0.18    0.14              -1.09            -1.59  \n",
      "9               -0.49   -0.32               0.35             0.37  \n",
      "10              -0.01   -0.59              -0.18             0.50  \n",
      "11              -0.28   -0.27               0.77             0.63  \n",
      "12               3.43   -0.28               0.48             0.59  \n",
      "13              -1.19    1.43              -1.30            -0.35  \n",
      "14              -0.38    2.44               0.37            -3.70  \n",
      "15              -0.69   -0.14               0.74            -0.62  \n",
      "16              -0.84   -0.26               0.75             0.70  \n",
      "17              -0.51   -0.64               0.27             0.02  \n",
      "18               0.42    0.40              -1.11             0.43  \n",
      "19              -0.80   -0.59               0.74             0.74  \n",
      "20              -1.22   -0.75               0.83             0.77  \n",
      "21               2.00    0.92              -1.98            -1.60  \n",
      "22               1.95    0.15               0.45             0.35  \n",
      "23              -0.77    0.31               0.33            -2.01  \n",
      "24              -0.18   -0.40               0.51             0.39  \n",
      "25              -0.68   -0.44               0.53             0.31  \n",
      "26               1.56    0.52               0.38             0.68  \n",
      "27               1.68   -0.61               0.83             0.79  \n",
      "28              -1.22   -0.59               0.67             0.44  \n",
      "29              -0.10   -0.63               0.71             0.41  \n",
      "..                ...     ...                ...              ...  \n",
      "370             -1.21   -0.11               0.02             0.46  \n",
      "371              1.89   -0.11               0.48             0.96  \n",
      "372              2.37   -0.79               0.55             0.34  \n",
      "373              1.88   -0.51               0.68             0.85  \n",
      "374              0.06   -0.47               0.68             0.60  \n",
      "375              1.12   -0.65               0.52             0.65  \n",
      "376              0.11    0.12               0.50             0.77  \n",
      "377             -1.13   -0.86               0.66             0.78  \n",
      "378              0.59    1.12               0.09            -1.59  \n",
      "379             -1.21    1.07              -1.68            -4.07  \n",
      "380              1.83   -0.85               0.44             0.10  \n",
      "381             -0.97   -0.10               0.53             0.50  \n",
      "382              0.68   -0.34               0.57            -0.14  \n",
      "383              0.75    0.23               0.44             0.81  \n",
      "384             -0.72    0.36               0.20             0.16  \n",
      "385              0.22   -0.56               0.64             0.48  \n",
      "386              1.25   -0.41               0.16            -1.90  \n",
      "387              1.80    3.78              -0.41            -0.29  \n",
      "388             -0.62    5.09              -2.77            -1.92  \n",
      "389              0.83    0.35              -0.45            -1.01  \n",
      "390             -1.31   -0.25               0.73             0.64  \n",
      "391             -0.59   -0.32               0.51             0.12  \n",
      "392              1.59   -0.46              -0.60             0.10  \n",
      "393              0.47    0.11               0.47             0.52  \n",
      "394              0.34    0.71               0.18             0.90  \n",
      "395             -0.98    0.65              -0.03            -1.01  \n",
      "396             -0.21   -0.80               0.68             0.87  \n",
      "397             -0.12   -0.47               0.60             0.32  \n",
      "398             -1.24   -0.08               0.65             0.51  \n",
      "399              0.98    0.19               0.41            -0.62  \n",
      "\n",
      "[400 rows x 8 columns]\n"
     ]
    }
   ],
   "source": [
    "data = pd.read_csv(\"try2.csv\")\n",
    "print(data)"
   ]
  },
  {
   "cell_type": "code",
   "execution_count": 37,
   "metadata": {},
   "outputs": [
    {
     "name": "stdout",
     "output_type": "stream",
     "text": [
      "(400, 8)\n",
      "['Unique Applicant ID ', 'Outcomes: Default = 1', ' Age', ' Years at Employer', 'Years at Address', 'Income', 'Credit Card Debt ', 'Automobile Debt']\n"
     ]
    }
   ],
   "source": [
    "data=data.dropna()\n",
    "print(data.shape)\n",
    "print(list(data.columns))"
   ]
  },
  {
   "cell_type": "code",
   "execution_count": 38,
   "metadata": {},
   "outputs": [
    {
     "data": {
      "text/plain": [
       "<matplotlib.axes._subplots.AxesSubplot at 0xc5dfd68>"
      ]
     },
     "execution_count": 38,
     "metadata": {},
     "output_type": "execute_result"
    },
    {
     "data": {
      "image/png": "[encoded data removed]",
      "text/plain": [
       "<matplotlib.figure.Figure at 0x8113ac8>"
      ]
     },
     "metadata": {},
     "output_type": "display_data"
    }
   ],
   "source": [
    "sns.countplot(x='Outcomes: Default = 1',data=data, palette='hls')"
   ]
  },
  {
   "cell_type": "code",
   "execution_count": 39,
   "metadata": {},
   "outputs": [
    {
     "data": {
      "image/png": "[encoded data removed]",
      "text/plain": [
       "<matplotlib.figure.Figure at 0xc652cf8>"
      ]
     },
     "metadata": {},
     "output_type": "display_data"
    }
   ],
   "source": [
    "sns.heatmap(data.corr())\n",
    "plt.show()"
   ]
  },
  {
   "cell_type": "code",
   "execution_count": 40,
   "metadata": {},
   "outputs": [
    {
     "data": {
      "text/html": [
       "<div>\n",
       "<style>\n",
       "    .dataframe thead tr:only-child th {\n",
       "        text-align: right;\n",
       "    }\n",
       "\n",
       "    .dataframe thead th {\n",
       "        text-align: left;\n",
       "    }\n",
       "\n",
       "    .dataframe tbody tr th {\n",
       "        vertical-align: top;\n",
       "    }\n",
       "</style>\n",
       "<table border=\"1\" class=\"dataframe\">\n",
       "  <thead>\n",
       "    <tr style=\"text-align: right;\">\n",
       "      <th></th>\n",
       "      <th>Outcomes: Default = 1</th>\n",
       "      <th>Age</th>\n",
       "      <th>Years at Employer</th>\n",
       "      <th>Years at Address</th>\n",
       "      <th>Income</th>\n",
       "      <th>Credit Card Debt</th>\n",
       "      <th>Automobile Debt</th>\n",
       "    </tr>\n",
       "  </thead>\n",
       "  <tbody>\n",
       "    <tr>\n",
       "      <th>0</th>\n",
       "      <td>0</td>\n",
       "      <td>-0.26</td>\n",
       "      <td>0.11</td>\n",
       "      <td>-0.78</td>\n",
       "      <td>-0.22</td>\n",
       "      <td>-0.01</td>\n",
       "      <td>0.21</td>\n",
       "    </tr>\n",
       "    <tr>\n",
       "      <th>1</th>\n",
       "      <td>1</td>\n",
       "      <td>-0.01</td>\n",
       "      <td>0.50</td>\n",
       "      <td>1.14</td>\n",
       "      <td>0.36</td>\n",
       "      <td>-3.18</td>\n",
       "      <td>-1.51</td>\n",
       "    </tr>\n",
       "    <tr>\n",
       "      <th>2</th>\n",
       "      <td>1</td>\n",
       "      <td>0.37</td>\n",
       "      <td>0.57</td>\n",
       "      <td>-1.12</td>\n",
       "      <td>0.26</td>\n",
       "      <td>-2.11</td>\n",
       "      <td>-0.21</td>\n",
       "    </tr>\n",
       "    <tr>\n",
       "      <th>3</th>\n",
       "      <td>0</td>\n",
       "      <td>-0.73</td>\n",
       "      <td>-1.07</td>\n",
       "      <td>1.71</td>\n",
       "      <td>-0.60</td>\n",
       "      <td>0.51</td>\n",
       "      <td>0.53</td>\n",
       "    </tr>\n",
       "    <tr>\n",
       "      <th>4</th>\n",
       "      <td>0</td>\n",
       "      <td>-0.25</td>\n",
       "      <td>-0.17</td>\n",
       "      <td>-0.88</td>\n",
       "      <td>-0.49</td>\n",
       "      <td>0.53</td>\n",
       "      <td>0.80</td>\n",
       "    </tr>\n",
       "  </tbody>\n",
       "</table>\n",
       "</div>"
      ],
      "text/plain": [
       "   Outcomes: Default = 1   Age   Years at Employer  Years at Address  Income  \\\n",
       "0                      0 -0.26                0.11             -0.78   -0.22   \n",
       "1                      1 -0.01                0.50              1.14    0.36   \n",
       "2                      1  0.37                0.57             -1.12    0.26   \n",
       "3                      0 -0.73               -1.07              1.71   -0.60   \n",
       "4                      0 -0.25               -0.17             -0.88   -0.49   \n",
       "\n",
       "   Credit Card Debt   Automobile Debt  \n",
       "0              -0.01             0.21  \n",
       "1              -3.18            -1.51  \n",
       "2              -2.11            -0.21  \n",
       "3               0.51             0.53  \n",
       "4               0.53             0.80  "
      ]
     },
     "execution_count": 40,
     "metadata": {},
     "output_type": "execute_result"
    }
   ],
   "source": [
    "data.drop(data.columns[[0]],axis=1,inplace = True)\n",
    "data.head()"
   ]
  },
  {
   "cell_type": "code",
   "execution_count": 41,
   "metadata": {},
   "outputs": [
    {
     "data": {
      "text/plain": [
       "Index(['Outcomes: Default = 1', ' Age', ' Years at Employer',\n",
       "       'Years at Address', 'Income', 'Credit Card Debt ', 'Automobile Debt'],\n",
       "      dtype='object')"
      ]
     },
     "execution_count": 41,
     "metadata": {},
     "output_type": "execute_result"
    }
   ],
   "source": [
    "data.columns"
   ]
  },
  {
   "cell_type": "code",
   "execution_count": 42,
   "metadata": {},
   "outputs": [
    {
     "data": {
      "image/png": "[encoded data removed]",
      "text/plain": [
       "<matplotlib.figure.Figure at 0xc31de80>"
      ]
     },
     "metadata": {},
     "output_type": "display_data"
    }
   ],
   "source": [
    "sns.heatmap(data.corr())\n",
    "plt.show()"
   ]
  },
  {
   "cell_type": "code",
   "execution_count": 88,
   "metadata": {},
   "outputs": [],
   "source": [
    "X=data.iloc[0:,1:]\n",
    "y=data.iloc[:,0]\n",
    "X_train,X_test,y_train,y_test = train_test_split(X,y,random_state=0)"
   ]
  },
  {
   "cell_type": "code",
   "execution_count": 89,
   "metadata": {},
   "outputs": [
    {
     "name": "stdout",
     "output_type": "stream",
     "text": [
      "      Age   Years at Employer  Years at Address  Income  Credit Card Debt   \\\n",
      "250 -1.81               -1.07             -0.24   -0.85               0.67   \n",
      "63  -0.51               -1.22              0.45   -0.69               0.41   \n",
      "312  0.63               -0.24             -0.52    0.39              -1.22   \n",
      "159 -0.17               -0.15             -1.08   -0.51               0.48   \n",
      "283 -0.38                0.83              0.60   -0.52               0.61   \n",
      "340 -1.37               -0.39             -1.26   -0.74               0.34   \n",
      "81  -0.47               -1.17             -0.95   -0.49               0.34   \n",
      "349 -1.90               -1.21             -0.21   -0.54              -0.04   \n",
      "153 -0.39               -0.97             -0.09   -0.53              -0.23   \n",
      "295  0.23                0.88             -0.20   -0.18              -0.65   \n",
      "96  -1.30               -0.60             -0.45   -0.77               0.77   \n",
      "89   1.42               -0.10             -0.37   -0.24               0.32   \n",
      "296  0.33                0.88             -0.32   -0.30               0.49   \n",
      "21   0.33                1.83              2.00    0.92              -1.98   \n",
      "365 -0.53               -0.74              0.04    0.16              -0.33   \n",
      "216  0.41                0.48              0.60    0.44              -0.10   \n",
      "259 -0.30                0.85             -1.38   -0.47               0.47   \n",
      "49  -1.34               -0.77             -0.42    0.04               0.69   \n",
      "238 -0.95               -0.96             -1.12   -0.97               0.31   \n",
      "343  0.79                0.17              1.23   -0.33               0.38   \n",
      "92  -0.12               -0.47             -0.73   -0.14              -0.53   \n",
      "223 -0.58                0.71              0.38   -0.27               0.57   \n",
      "234  1.16                1.49             -0.73    1.31              -0.34   \n",
      "232  1.65                2.03              0.57    0.95               0.57   \n",
      "377 -1.42               -1.14             -1.13   -0.86               0.66   \n",
      "142 -0.31               -1.17             -0.13   -0.31               0.42   \n",
      "22   0.89                0.86              1.95    0.15               0.45   \n",
      "252  0.79                1.32              2.38    0.70              -2.40   \n",
      "350 -0.58                0.27             -0.26   -0.40               0.05   \n",
      "168  2.55                0.46             -0.94    0.20              -1.63   \n",
      "..    ...                 ...               ...     ...                ...   \n",
      "243  1.71                0.93             -0.63    4.86              -6.78   \n",
      "115 -1.28               -0.90              0.19   -0.49               0.18   \n",
      "265 -0.03                1.12              1.65    0.22               0.32   \n",
      "72   1.02               -0.61             -0.66   -0.34               0.61   \n",
      "333 -1.94               -1.24             -1.21   -0.30               0.34   \n",
      "25  -1.16                0.10             -0.68   -0.44               0.53   \n",
      "165  0.15               -0.53             -0.84   -0.59               0.75   \n",
      "337 -0.25                0.25             -0.05   -0.54               0.52   \n",
      "384  0.12                1.43             -0.72    0.36               0.20   \n",
      "174 -0.18                0.71             -0.90   -0.47               0.56   \n",
      "386  0.28                0.26              1.25   -0.41               0.16   \n",
      "39  -0.82                0.42             -0.84   -0.28               0.03   \n",
      "193  0.49               -1.18             -1.05   -0.38               0.51   \n",
      "314 -0.54               -0.94             -1.15   -0.64               0.51   \n",
      "88  -0.39               -0.04             -0.81   -0.19               0.31   \n",
      "70   1.50               -1.01              0.30   -0.46               0.44   \n",
      "87  -1.29               -1.25              2.17   -0.62               0.78   \n",
      "292 -0.02               -0.03              1.60   -0.03               0.14   \n",
      "242  0.59               -0.10              1.56   -0.37               0.42   \n",
      "277  1.76               -0.03             -0.93    0.58               0.10   \n",
      "211 -0.30               -1.12              0.01   -0.71               0.68   \n",
      "9   -0.90                0.13             -0.49   -0.32               0.35   \n",
      "359  0.31               -0.34             -0.65    0.34               0.31   \n",
      "195  0.92                0.68             -0.32    0.21              -0.50   \n",
      "251 -1.13               -0.98              0.22   -0.93               0.39   \n",
      "323  1.68                1.37             -0.71    3.07               0.23   \n",
      "192 -0.78               -0.26             -0.63    0.08               0.19   \n",
      "117 -0.24                1.06             -0.61    0.20               0.41   \n",
      "47  -0.66               -0.63              0.58   -0.21               0.19   \n",
      "172 -0.95                0.62             -0.72    0.99              -0.67   \n",
      "\n",
      "     Automobile Debt  \n",
      "250             0.46  \n",
      "63              0.07  \n",
      "312            -1.54  \n",
      "159             0.73  \n",
      "283             0.71  \n",
      "340             0.56  \n",
      "81              0.43  \n",
      "349             0.84  \n",
      "153             0.56  \n",
      "295            -0.38  \n",
      "96              0.64  \n",
      "89              0.76  \n",
      "296             0.42  \n",
      "21             -1.60  \n",
      "365             0.48  \n",
      "216             0.17  \n",
      "259             0.57  \n",
      "49             -0.43  \n",
      "238             0.46  \n",
      "343             0.24  \n",
      "92             -0.33  \n",
      "223             0.66  \n",
      "234            -0.48  \n",
      "232            -0.71  \n",
      "377             0.78  \n",
      "142             0.72  \n",
      "22              0.35  \n",
      "252            -0.50  \n",
      "350             0.66  \n",
      "168            -0.05  \n",
      "..               ...  \n",
      "243            -5.58  \n",
      "115             0.36  \n",
      "265             0.24  \n",
      "72              0.54  \n",
      "333             0.02  \n",
      "25              0.31  \n",
      "165             0.39  \n",
      "337             0.78  \n",
      "384             0.16  \n",
      "174             0.71  \n",
      "386            -1.90  \n",
      "39              0.33  \n",
      "193             0.49  \n",
      "314             0.42  \n",
      "88              0.26  \n",
      "70              0.79  \n",
      "87              0.50  \n",
      "292             0.17  \n",
      "242             0.93  \n",
      "277            -0.67  \n",
      "211             0.36  \n",
      "9               0.37  \n",
      "359             0.48  \n",
      "195            -0.67  \n",
      "251             0.66  \n",
      "323            -0.21  \n",
      "192            -0.90  \n",
      "117             0.52  \n",
      "47              0.56  \n",
      "172            -0.07  \n",
      "\n",
      "[300 rows x 6 columns]\n"
     ]
    }
   ],
   "source": [
    "print(X_train)"
   ]
  },
  {
   "cell_type": "code",
   "execution_count": 100,
   "metadata": {
    "collapsed": true
   },
   "outputs": [],
   "source": [
    "classifier = LogisticRegression(random_state=0)"
   ]
  },
  {
   "cell_type": "code",
   "execution_count": 101,
   "metadata": {},
   "outputs": [],
   "source": [
    "y_pred_undersample_score=classifier.fit(X_train,y_train)\n"
   ]
  },
  {
   "cell_type": "code",
   "execution_count": 105,
   "metadata": {},
   "outputs": [
    {
     "ename": "TypeError",
     "evalue": "Expected sequence or array-like, got estimator LogisticRegression(C=1.0, class_weight=None, dual=False, fit_intercept=True,\n          intercept_scaling=1, max_iter=100, multi_class='ovr', n_jobs=1,\n          penalty='l2', random_state=0, solver='liblinear', tol=0.0001,\n          verbose=0, warm_start=False)",
     "output_type": "error",
     "traceback": [
      "\u001b[1;31m---------------------------------------------------------------------------\u001b[0m",
      "\u001b[1;31mTypeError\u001b[0m                                 Traceback (most recent call last)",
      "\u001b[1;32m<ipython-input-105-bf078a646fc7>\u001b[0m in \u001b[0;36m<module>\u001b[1;34m()\u001b[0m\n\u001b[0;32m      1\u001b[0m \u001b[0my_pred\u001b[0m \u001b[1;33m=\u001b[0m \u001b[0mclassifier\u001b[0m\u001b[1;33m.\u001b[0m\u001b[0mpredict\u001b[0m\u001b[1;33m(\u001b[0m\u001b[0mX_test\u001b[0m\u001b[1;33m)\u001b[0m\u001b[1;33m\u001b[0m\u001b[0m\n\u001b[1;32m----> 2\u001b[1;33m \u001b[0mfpr\u001b[0m\u001b[1;33m,\u001b[0m \u001b[0mtpr\u001b[0m\u001b[1;33m,\u001b[0m \u001b[0mthresholds\u001b[0m \u001b[1;33m=\u001b[0m \u001b[0mroc_curve\u001b[0m\u001b[1;33m(\u001b[0m\u001b[0my_test\u001b[0m\u001b[1;33m,\u001b[0m\u001b[0my_pred_undersample_score\u001b[0m\u001b[1;33m)\u001b[0m\u001b[1;33m\u001b[0m\u001b[0m\n\u001b[0m",
      "\u001b[1;32m~\\Anaconda3\\lib\\site-packages\\sklearn\\metrics\\ranking.py\u001b[0m in \u001b[0;36mroc_curve\u001b[1;34m(y_true, y_score, pos_label, sample_weight, drop_intermediate)\u001b[0m\n\u001b[0;32m    508\u001b[0m     \"\"\"\n\u001b[0;32m    509\u001b[0m     fps, tps, thresholds = _binary_clf_curve(\n\u001b[1;32m--> 510\u001b[1;33m         y_true, y_score, pos_label=pos_label, sample_weight=sample_weight)\n\u001b[0m\u001b[0;32m    511\u001b[0m \u001b[1;33m\u001b[0m\u001b[0m\n\u001b[0;32m    512\u001b[0m     \u001b[1;31m# Attempt to drop thresholds corresponding to points in between and\u001b[0m\u001b[1;33m\u001b[0m\u001b[1;33m\u001b[0m\u001b[0m\n",
      "\u001b[1;32m~\\Anaconda3\\lib\\site-packages\\sklearn\\metrics\\ranking.py\u001b[0m in \u001b[0;36m_binary_clf_curve\u001b[1;34m(y_true, y_score, pos_label, sample_weight)\u001b[0m\n\u001b[0;32m    300\u001b[0m         \u001b[0mDecreasing\u001b[0m \u001b[0mscore\u001b[0m \u001b[0mvalues\u001b[0m\u001b[1;33m.\u001b[0m\u001b[1;33m\u001b[0m\u001b[0m\n\u001b[0;32m    301\u001b[0m     \"\"\"\n\u001b[1;32m--> 302\u001b[1;33m     \u001b[0mcheck_consistent_length\u001b[0m\u001b[1;33m(\u001b[0m\u001b[0my_true\u001b[0m\u001b[1;33m,\u001b[0m \u001b[0my_score\u001b[0m\u001b[1;33m)\u001b[0m\u001b[1;33m\u001b[0m\u001b[0m\n\u001b[0m\u001b[0;32m    303\u001b[0m     \u001b[0my_true\u001b[0m \u001b[1;33m=\u001b[0m \u001b[0mcolumn_or_1d\u001b[0m\u001b[1;33m(\u001b[0m\u001b[0my_true\u001b[0m\u001b[1;33m)\u001b[0m\u001b[1;33m\u001b[0m\u001b[0m\n\u001b[0;32m    304\u001b[0m     \u001b[0my_score\u001b[0m \u001b[1;33m=\u001b[0m \u001b[0mcolumn_or_1d\u001b[0m\u001b[1;33m(\u001b[0m\u001b[0my_score\u001b[0m\u001b[1;33m)\u001b[0m\u001b[1;33m\u001b[0m\u001b[0m\n",
      "\u001b[1;32m~\\Anaconda3\\lib\\site-packages\\sklearn\\utils\\validation.py\u001b[0m in \u001b[0;36mcheck_consistent_length\u001b[1;34m(*arrays)\u001b[0m\n\u001b[0;32m    167\u001b[0m     \"\"\"\n\u001b[0;32m    168\u001b[0m \u001b[1;33m\u001b[0m\u001b[0m\n\u001b[1;32m--> 169\u001b[1;33m     \u001b[0mlengths\u001b[0m \u001b[1;33m=\u001b[0m \u001b[1;33m[\u001b[0m\u001b[0m_num_samples\u001b[0m\u001b[1;33m(\u001b[0m\u001b[0mX\u001b[0m\u001b[1;33m)\u001b[0m \u001b[1;32mfor\u001b[0m \u001b[0mX\u001b[0m \u001b[1;32min\u001b[0m \u001b[0marrays\u001b[0m \u001b[1;32mif\u001b[0m \u001b[0mX\u001b[0m \u001b[1;32mis\u001b[0m \u001b[1;32mnot\u001b[0m \u001b[1;32mNone\u001b[0m\u001b[1;33m]\u001b[0m\u001b[1;33m\u001b[0m\u001b[0m\n\u001b[0m\u001b[0;32m    170\u001b[0m     \u001b[0muniques\u001b[0m \u001b[1;33m=\u001b[0m \u001b[0mnp\u001b[0m\u001b[1;33m.\u001b[0m\u001b[0munique\u001b[0m\u001b[1;33m(\u001b[0m\u001b[0mlengths\u001b[0m\u001b[1;33m)\u001b[0m\u001b[1;33m\u001b[0m\u001b[0m\n\u001b[0;32m    171\u001b[0m     \u001b[1;32mif\u001b[0m \u001b[0mlen\u001b[0m\u001b[1;33m(\u001b[0m\u001b[0muniques\u001b[0m\u001b[1;33m)\u001b[0m \u001b[1;33m>\u001b[0m \u001b[1;36m1\u001b[0m\u001b[1;33m:\u001b[0m\u001b[1;33m\u001b[0m\u001b[0m\n",
      "\u001b[1;32m~\\Anaconda3\\lib\\site-packages\\sklearn\\utils\\validation.py\u001b[0m in \u001b[0;36m<listcomp>\u001b[1;34m(.0)\u001b[0m\n\u001b[0;32m    167\u001b[0m     \"\"\"\n\u001b[0;32m    168\u001b[0m \u001b[1;33m\u001b[0m\u001b[0m\n\u001b[1;32m--> 169\u001b[1;33m     \u001b[0mlengths\u001b[0m \u001b[1;33m=\u001b[0m \u001b[1;33m[\u001b[0m\u001b[0m_num_samples\u001b[0m\u001b[1;33m(\u001b[0m\u001b[0mX\u001b[0m\u001b[1;33m)\u001b[0m \u001b[1;32mfor\u001b[0m \u001b[0mX\u001b[0m \u001b[1;32min\u001b[0m \u001b[0marrays\u001b[0m \u001b[1;32mif\u001b[0m \u001b[0mX\u001b[0m \u001b[1;32mis\u001b[0m \u001b[1;32mnot\u001b[0m \u001b[1;32mNone\u001b[0m\u001b[1;33m]\u001b[0m\u001b[1;33m\u001b[0m\u001b[0m\n\u001b[0m\u001b[0;32m    170\u001b[0m     \u001b[0muniques\u001b[0m \u001b[1;33m=\u001b[0m \u001b[0mnp\u001b[0m\u001b[1;33m.\u001b[0m\u001b[0munique\u001b[0m\u001b[1;33m(\u001b[0m\u001b[0mlengths\u001b[0m\u001b[1;33m)\u001b[0m\u001b[1;33m\u001b[0m\u001b[0m\n\u001b[0;32m    171\u001b[0m     \u001b[1;32mif\u001b[0m \u001b[0mlen\u001b[0m\u001b[1;33m(\u001b[0m\u001b[0muniques\u001b[0m\u001b[1;33m)\u001b[0m \u001b[1;33m>\u001b[0m \u001b[1;36m1\u001b[0m\u001b[1;33m:\u001b[0m\u001b[1;33m\u001b[0m\u001b[0m\n",
      "\u001b[1;32m~\\Anaconda3\\lib\\site-packages\\sklearn\\utils\\validation.py\u001b[0m in \u001b[0;36m_num_samples\u001b[1;34m(x)\u001b[0m\n\u001b[0;32m    106\u001b[0m         \u001b[1;31m# Don't get num_samples from an ensembles length!\u001b[0m\u001b[1;33m\u001b[0m\u001b[1;33m\u001b[0m\u001b[0m\n\u001b[0;32m    107\u001b[0m         raise TypeError('Expected sequence or array-like, got '\n\u001b[1;32m--> 108\u001b[1;33m                         'estimator %s' % x)\n\u001b[0m\u001b[0;32m    109\u001b[0m     \u001b[1;32mif\u001b[0m \u001b[1;32mnot\u001b[0m \u001b[0mhasattr\u001b[0m\u001b[1;33m(\u001b[0m\u001b[0mx\u001b[0m\u001b[1;33m,\u001b[0m \u001b[1;34m'__len__'\u001b[0m\u001b[1;33m)\u001b[0m \u001b[1;32mand\u001b[0m \u001b[1;32mnot\u001b[0m \u001b[0mhasattr\u001b[0m\u001b[1;33m(\u001b[0m\u001b[0mx\u001b[0m\u001b[1;33m,\u001b[0m \u001b[1;34m'shape'\u001b[0m\u001b[1;33m)\u001b[0m\u001b[1;33m:\u001b[0m\u001b[1;33m\u001b[0m\u001b[0m\n\u001b[0;32m    110\u001b[0m         \u001b[1;32mif\u001b[0m \u001b[0mhasattr\u001b[0m\u001b[1;33m(\u001b[0m\u001b[0mx\u001b[0m\u001b[1;33m,\u001b[0m \u001b[1;34m'__array__'\u001b[0m\u001b[1;33m)\u001b[0m\u001b[1;33m:\u001b[0m\u001b[1;33m\u001b[0m\u001b[0m\n",
      "\u001b[1;31mTypeError\u001b[0m: Expected sequence or array-like, got estimator LogisticRegression(C=1.0, class_weight=None, dual=False, fit_intercept=True,\n          intercept_scaling=1, max_iter=100, multi_class='ovr', n_jobs=1,\n          penalty='l2', random_state=0, solver='liblinear', tol=0.0001,\n          verbose=0, warm_start=False)"
     ]
    }
   ],
   "source": [
    "y_pred = classifier.predict(X_test)\n",
    "fpr, tpr, thresholds = roc_curve(y_test,y_pred_undersample_score)"
   ]
  },
  {
   "cell_type": "code",
   "execution_count": null,
   "metadata": {
    "collapsed": true
   },
   "outputs": [],
   "source": []
  }
 ],
 "metadata": {
  "kernelspec": {
   "display_name": "Python 3",
   "language": "python",
   "name": "python3"
  },
  "language_info": {
   "codemirror_mode": {
    "name": "ipython",
    "version": 3
   },
   "file_extension": ".py",
   "mimetype": "text/x-python",
   "name": "python",
   "nbconvert_exporter": "python",
   "pygments_lexer": "ipython3",
   "version": "3.6.2"
  }
 },
 "nbformat": 4,
 "nbformat_minor": 2
}
