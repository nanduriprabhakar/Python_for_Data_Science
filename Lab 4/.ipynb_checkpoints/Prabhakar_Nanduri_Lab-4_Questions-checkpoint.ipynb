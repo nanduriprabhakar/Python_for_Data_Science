{
 "cells": [
  {
   "cell_type": "code",
   "execution_count": 1,
   "metadata": {
    "collapsed": true
   },
   "outputs": [],
   "source": [
    "##Question 1"
   ]
  },
  {
   "cell_type": "code",
   "execution_count": 3,
   "metadata": {},
   "outputs": [
    {
     "name": "stdout",
     "output_type": "stream",
     "text": [
      "1\n"
     ]
    }
   ],
   "source": [
    "x=0\n",
    "def add_one(x):\n",
    "    x=x+1\n",
    "    return(x)\n",
    "\n",
    "print(add_one(x))"
   ]
  },
  {
   "cell_type": "code",
   "execution_count": 7,
   "metadata": {
    "collapsed": true
   },
   "outputs": [],
   "source": [
    "##Question 2"
   ]
  },
  {
   "cell_type": "code",
   "execution_count": 6,
   "metadata": {},
   "outputs": [
    {
     "name": "stdout",
     "output_type": "stream",
     "text": [
      "4\n"
     ]
    }
   ],
   "source": [
    "def max(a,b,c):\n",
    "    result = a\n",
    "    if b>a:\n",
    "        result = b\n",
    "    if c>a:\n",
    "        result = c\n",
    "    return result\n",
    "\n",
    "print(max(4,4,3))"
   ]
  },
  {
   "cell_type": "code",
   "execution_count": 8,
   "metadata": {
    "collapsed": true
   },
   "outputs": [],
   "source": [
    "##Question 3"
   ]
  },
  {
   "cell_type": "code",
   "execution_count": 1,
   "metadata": {},
   "outputs": [
    {
     "name": "stdout",
     "output_type": "stream",
     "text": [
      "[5, 4, 3, 2, 1]\n"
     ]
    }
   ],
   "source": [
    "lista =[1,2,3,4,5]\n",
    "\n",
    "def reverse(list):\n",
    "    result = list[::-1]\n",
    "    return result\n",
    "   \n",
    "print(reverse(lista))    "
   ]
  },
  {
   "cell_type": "code",
   "execution_count": 2,
   "metadata": {
    "collapsed": true
   },
   "outputs": [],
   "source": [
    "##Question 4"
   ]
  },
  {
   "cell_type": "code",
   "execution_count": 10,
   "metadata": {},
   "outputs": [
    {
     "name": "stdout",
     "output_type": "stream",
     "text": [
      "{0: 0, 1: 1, 2: 4, 3: 9, 4: 16, 5: 25, 6: 36, 7: 49}\n"
     ]
    }
   ],
   "source": [
    "def dicsquare(a):\n",
    "    result = {}\n",
    "    for i in range (0,a,1):\n",
    "        tempdict = {i:i*i}\n",
    "        result.update(tempdict)\n",
    "    \n",
    "    return result\n",
    "\n",
    "print(dicsquare(8))"
   ]
  },
  {
   "cell_type": "code",
   "execution_count": 13,
   "metadata": {
    "collapsed": true
   },
   "outputs": [],
   "source": [
    "##Question 5"
   ]
  },
  {
   "cell_type": "code",
   "execution_count": 35,
   "metadata": {},
   "outputs": [
    {
     "name": "stdout",
     "output_type": "stream",
     "text": [
      "enter the string value to check for palindrome :ola alo\n",
      "the string is a palindrome\n"
     ]
    }
   ],
   "source": [
    "str1 = input('enter the string value to check for palindrome :')\n",
    "##print(type(str1))\n",
    "\n",
    "def palindrome__check( str ):\n",
    "    tempst = str.replace(\" \",\"\")\n",
    "    tempst2 = tempst[::-1]\n",
    "    if tempst2 == tempst:\n",
    "        print(\"the string is a palindrome\")\n",
    "    if tempst2 != tempst:\n",
    "        print(\"the string is not a palindrome\")\n",
    "    \n",
    "\n",
    "palindrome__check(str1)   \n",
    "  "
   ]
  },
  {
   "cell_type": "code",
   "execution_count": 36,
   "metadata": {
    "collapsed": true
   },
   "outputs": [],
   "source": [
    "##Question 6"
   ]
  },
  {
   "cell_type": "code",
   "execution_count": 44,
   "metadata": {},
   "outputs": [
    {
     "name": "stdout",
     "output_type": "stream",
     "text": [
      "enter a string with multiple words in it :Hello I am Robo 2.0\n",
      "2.0 Robo am I Hello\n"
     ]
    }
   ],
   "source": [
    "str1 = input(\"enter a string with multiple words in it :\")\n",
    "\n",
    "def strbackwards(a):\n",
    "    temp = str1.split()\n",
    "    temp2 = temp[::-1]\n",
    "    s = \" \"\n",
    "    temp3 = s.join(temp2)\n",
    "    print(temp3)\n",
    "\n",
    "strbackwards(str1)"
   ]
  },
  {
   "cell_type": "code",
   "execution_count": null,
   "metadata": {
    "collapsed": true
   },
   "outputs": [],
   "source": []
  }
 ],
 "metadata": {
  "kernelspec": {
   "display_name": "Python 3",
   "language": "python",
   "name": "python3"
  },
  "language_info": {
   "codemirror_mode": {
    "name": "ipython",
    "version": 3
   },
   "file_extension": ".py",
   "mimetype": "text/x-python",
   "name": "python",
   "nbconvert_exporter": "python",
   "pygments_lexer": "ipython3",
   "version": "3.6.2"
  }
 },
 "nbformat": 4,
 "nbformat_minor": 2
}
