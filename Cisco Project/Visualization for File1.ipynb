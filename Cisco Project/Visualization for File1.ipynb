{
 "cells": [
  {
   "cell_type": "code",
   "execution_count": 1,
   "metadata": {
    "collapsed": true
   },
   "outputs": [],
   "source": [
    "import pandas as pd\n",
    "import numpy as np\n",
    "import matplotlib.pyplot as plt"
   ]
  },
  {
   "cell_type": "code",
   "execution_count": 2,
   "metadata": {
    "collapsed": true
   },
   "outputs": [],
   "source": [
    "raw_data_file1 = pd.read_csv('File1.csv')"
   ]
  },
  {
   "cell_type": "code",
   "execution_count": 3,
   "metadata": {
    "collapsed": true
   },
   "outputs": [],
   "source": [
    "data_frame=pd.DataFrame(raw_data_file1)"
   ]
  },
  {
   "cell_type": "code",
   "execution_count": 4,
   "metadata": {
    "collapsed": true
   },
   "outputs": [],
   "source": [
    "data_frame=data_frame.drop(data_frame.columns[[0,1]],axis=1)\n",
    "no_of_elements=data_frame.Producer.unique()\n",
    "##print(len(no_of_elements))"
   ]
  },
  {
   "cell_type": "code",
   "execution_count": 5,
   "metadata": {
    "scrolled": false
   },
   "outputs": [
    {
     "name": "stderr",
     "output_type": "stream",
     "text": [
      "C:\\Users\\lenovo\\Anaconda3\\lib\\site-packages\\matplotlib\\pyplot.py:524: RuntimeWarning: More than 20 figures have been opened. Figures created through the pyplot interface (`matplotlib.pyplot.figure`) are retained until explicitly closed and may consume too much memory. (To control this warning, see the rcParam `figure.max_open_warning`).\n",
      "  max_open_warning, RuntimeWarning)\n"
     ]
    }
   ],
   "source": [
    "for i in no_of_elements:\n",
    "    data_frame_temp=data_frame[data_frame.Producer==i]\n",
    "    data_frame_temp.plot(data_frame_temp.time,y=['input-load','input-data-rate','input-packet-rate'])\n",
    "    plt.title(i+' input parameter analysis')\n",
    "    plt.savefig('parameter_visualizations_python\\\\input_parameter_analysis %s.png' %i) \n",
    "    data_frame_temp.plot(data_frame_temp.time,y=['output-load','output-data-rate','output-packet-rate'])\n",
    "    plt.title(i+' output parameter analysis')\n",
    "    plt.savefig('parameter_visualizations_python\\\\output_parameter_analysis %s.png' %i) \n",
    "    data_frame_temp.plot(data_frame_temp.time,y=['bandwidth','load-interval','peak-input-data-rate','peak-input-packet-rate','peak-output-data-rate','peak-output-packet-rate','reliability'])\n",
    "    plt.title(i+' other parameter analysis')\n",
    "    plt.savefig('parameter_visualizations_python\\\\other_parameter_analysis %s.png' %i) \n"
   ]
  },
  {
   "cell_type": "code",
   "execution_count": null,
   "metadata": {
    "collapsed": true
   },
   "outputs": [],
   "source": []
  }
 ],
 "metadata": {
  "kernelspec": {
   "display_name": "Python 3",
   "language": "python",
   "name": "python3"
  },
  "language_info": {
   "codemirror_mode": {
    "name": "ipython",
    "version": 3
   },
   "file_extension": ".py",
   "mimetype": "text/x-python",
   "name": "python",
   "nbconvert_exporter": "python",
   "pygments_lexer": "ipython3",
   "version": "3.6.2"
  }
 },
 "nbformat": 4,
 "nbformat_minor": 2
}
