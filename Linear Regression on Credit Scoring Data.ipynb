{
 "cells": [
  {
   "cell_type": "code",
   "execution_count": 34,
   "metadata": {
    "collapsed": true
   },
   "outputs": [],
   "source": [
    "import pandas as pd\n",
    "import numpy as np\n",
    "from sklearn import linear_model\n",
    "from sklearn.cross_validation import train_test_split"
   ]
  },
  {
   "cell_type": "code",
   "execution_count": 35,
   "metadata": {
    "collapsed": true
   },
   "outputs": [],
   "source": [
    "raw_data_set = pd.read_csv('Credit_Scoring_Data.csv')"
   ]
  },
  {
   "cell_type": "code",
   "execution_count": 38,
   "metadata": {},
   "outputs": [],
   "source": [
    "df_x=pd.DataFrame(data=raw_data_set)"
   ]
  },
  {
   "cell_type": "code",
   "execution_count": 33,
   "metadata": {},
   "outputs": [
    {
     "ename": "IndexError",
     "evalue": "index 8 is out of bounds for axis 0 with size 8",
     "output_type": "error",
     "traceback": [
      "\u001b[1;31m---------------------------------------------------------------------------\u001b[0m",
      "\u001b[1;31mIndexError\u001b[0m                                Traceback (most recent call last)",
      "\u001b[1;32m<ipython-input-33-3ad17a756a95>\u001b[0m in \u001b[0;36m<module>\u001b[1;34m()\u001b[0m\n\u001b[1;32m----> 1\u001b[1;33m \u001b[0mdf_x\u001b[0m\u001b[1;33m=\u001b[0m\u001b[0mdf_x\u001b[0m\u001b[1;33m.\u001b[0m\u001b[0mdrop\u001b[0m\u001b[1;33m(\u001b[0m\u001b[0mdf_x\u001b[0m\u001b[1;33m.\u001b[0m\u001b[0mcolumns\u001b[0m\u001b[1;33m[\u001b[0m\u001b[1;33m[\u001b[0m\u001b[1;36m0\u001b[0m\u001b[1;33m,\u001b[0m\u001b[1;36m1\u001b[0m\u001b[1;33m,\u001b[0m\u001b[1;36m2\u001b[0m\u001b[1;33m,\u001b[0m\u001b[1;36m3\u001b[0m\u001b[1;33m,\u001b[0m\u001b[1;36m4\u001b[0m\u001b[1;33m,\u001b[0m\u001b[1;36m5\u001b[0m\u001b[1;33m,\u001b[0m\u001b[1;36m6\u001b[0m\u001b[1;33m,\u001b[0m\u001b[1;36m7\u001b[0m\u001b[1;33m,\u001b[0m\u001b[1;36m8\u001b[0m\u001b[1;33m,\u001b[0m\u001b[1;36m9\u001b[0m\u001b[1;33m,\u001b[0m\u001b[1;36m18\u001b[0m\u001b[1;33m,\u001b[0m\u001b[1;36m19\u001b[0m\u001b[1;33m,\u001b[0m\u001b[1;36m20\u001b[0m\u001b[1;33m,\u001b[0m\u001b[1;36m21\u001b[0m\u001b[1;33m,\u001b[0m\u001b[1;36m22\u001b[0m\u001b[1;33m,\u001b[0m\u001b[1;36m23\u001b[0m\u001b[1;33m,\u001b[0m\u001b[1;36m24\u001b[0m\u001b[1;33m,\u001b[0m\u001b[1;36m25\u001b[0m\u001b[1;33m,\u001b[0m\u001b[1;36m26\u001b[0m\u001b[1;33m,\u001b[0m\u001b[1;36m27\u001b[0m\u001b[1;33m,\u001b[0m\u001b[1;36m28\u001b[0m\u001b[1;33m,\u001b[0m\u001b[1;36m29\u001b[0m\u001b[1;33m,\u001b[0m\u001b[1;36m30\u001b[0m\u001b[1;33m]\u001b[0m\u001b[1;33m]\u001b[0m\u001b[1;33m,\u001b[0m\u001b[0maxis\u001b[0m\u001b[1;33m=\u001b[0m\u001b[1;36m1\u001b[0m\u001b[1;33m)\u001b[0m\u001b[1;33m\u001b[0m\u001b[0m\n\u001b[0m",
      "\u001b[1;32m~\\Anaconda3\\lib\\site-packages\\pandas\\core\\indexes\\base.py\u001b[0m in \u001b[0;36m__getitem__\u001b[1;34m(self, key)\u001b[0m\n\u001b[0;32m   1698\u001b[0m \u001b[1;33m\u001b[0m\u001b[0m\n\u001b[0;32m   1699\u001b[0m         \u001b[0mkey\u001b[0m \u001b[1;33m=\u001b[0m \u001b[0m_values_from_object\u001b[0m\u001b[1;33m(\u001b[0m\u001b[0mkey\u001b[0m\u001b[1;33m)\u001b[0m\u001b[1;33m\u001b[0m\u001b[0m\n\u001b[1;32m-> 1700\u001b[1;33m         \u001b[0mresult\u001b[0m \u001b[1;33m=\u001b[0m \u001b[0mgetitem\u001b[0m\u001b[1;33m(\u001b[0m\u001b[0mkey\u001b[0m\u001b[1;33m)\u001b[0m\u001b[1;33m\u001b[0m\u001b[0m\n\u001b[0m\u001b[0;32m   1701\u001b[0m         \u001b[1;32mif\u001b[0m \u001b[1;32mnot\u001b[0m \u001b[0mis_scalar\u001b[0m\u001b[1;33m(\u001b[0m\u001b[0mresult\u001b[0m\u001b[1;33m)\u001b[0m\u001b[1;33m:\u001b[0m\u001b[1;33m\u001b[0m\u001b[0m\n\u001b[0;32m   1702\u001b[0m             \u001b[1;32mreturn\u001b[0m \u001b[0mpromote\u001b[0m\u001b[1;33m(\u001b[0m\u001b[0mresult\u001b[0m\u001b[1;33m)\u001b[0m\u001b[1;33m\u001b[0m\u001b[0m\n",
      "\u001b[1;31mIndexError\u001b[0m: index 8 is out of bounds for axis 0 with size 8"
     ]
    }
   ],
   "source": [
    "df_x=df_x.drop(df_x.columns[[0,1,2,3,4,5,6,7,8,9,18,19,20,21,22,23,24,25,26,27,28,29,30]],axis=1)"
   ]
  },
  {
   "cell_type": "code",
   "execution_count": 26,
   "metadata": {},
   "outputs": [
    {
     "name": "stdout",
     "output_type": "stream",
     "text": [
      "    Unnamed: 10 Unnamed: 11 Unnamed: 12 Unnamed: 13 Unnamed: 14 Unnamed: 15  \\\n",
      "6             3        0.37        0.57       -1.12        0.26       -2.11   \n",
      "7             4       -0.73       -1.07        1.71       -0.60        0.51   \n",
      "8             5       -0.25       -0.17       -0.88       -0.49        0.53   \n",
      "9             6        0.57       -0.60        2.02        3.63       -3.38   \n",
      "10            7        1.48        1.22        0.35        0.54       -0.33   \n",
      "11            8        0.89        1.08        3.27        1.45       -0.54   \n",
      "12            9        1.48        0.49       -0.18        0.14       -1.09   \n",
      "13           10       -0.90        0.13       -0.49       -0.32        0.35   \n",
      "14           11        0.07       -1.12       -0.01       -0.59       -0.18   \n",
      "15           12       -1.06       -0.65       -0.28       -0.27        0.77   \n",
      "16           13       -0.28       -0.18        3.43       -0.28        0.48   \n",
      "17           14        1.73        2.03       -1.19        1.43       -1.30   \n",
      "18           15        2.09        2.66       -0.38        2.44        0.37   \n",
      "19           16       -0.41       -0.11       -0.69       -0.14        0.74   \n",
      "20           17       -0.90       -0.13       -0.84       -0.26        0.75   \n",
      "21           18       -1.11       -0.87       -0.51       -0.64        0.27   \n",
      "22           19       -0.39        0.74        0.42        0.40       -1.11   \n",
      "23           20        1.10       -0.89       -0.80       -0.59        0.74   \n",
      "24           21       -0.43       -0.73       -1.22       -0.75        0.83   \n",
      "25           22        0.33        1.83        2.00        0.92       -1.98   \n",
      "26           23        0.89        0.86        1.95        0.15        0.45   \n",
      "27           24        1.39        2.53       -0.77        0.31        0.33   \n",
      "28           25        1.80       -0.60       -0.18       -0.40        0.51   \n",
      "29           26       -1.16        0.10       -0.68       -0.44        0.53   \n",
      "30           27        0.61       -0.64        1.56        0.52        0.38   \n",
      "31           28       -0.47       -1.19        1.68       -0.61        0.83   \n",
      "32           29        0.60       -1.10       -1.22       -0.59        0.67   \n",
      "33           30       -0.25       -0.74       -0.10       -0.63        0.71   \n",
      "34           31        0.58       -0.92        0.61       -0.75       -0.15   \n",
      "35           32        1.76        0.45        0.64        0.61        0.32   \n",
      "..          ...         ...         ...         ...         ...         ...   \n",
      "180         177       -0.98        0.17       -1.07       -0.36        0.60   \n",
      "181         178        0.19       -0.34       -0.21       -0.26       -0.04   \n",
      "182         179       -0.71       -1.13        0.05       -0.67        0.69   \n",
      "183         180       -1.15       -1.03        0.12       -0.70        0.71   \n",
      "184         181       -0.83       -0.87       -0.36       -0.45        0.61   \n",
      "185         182        0.16       -0.54       -0.54       -0.60        0.48   \n",
      "186         183       -0.12        1.06        1.75        0.23       -0.12   \n",
      "187         184       -0.65       -1.24        0.31       -0.54        0.65   \n",
      "188         185        0.45        1.56        2.12        0.52       -1.16   \n",
      "189         186        0.17       -0.66       -1.19       -0.65        0.59   \n",
      "190         187       -1.08       -1.21       -0.71       -0.30       -0.30   \n",
      "191         188       -0.30       -0.07       -0.46       -0.48        0.70   \n",
      "192         189       -0.44       -1.20       -1.20       -0.66        0.72   \n",
      "193         190        0.42        1.36       -0.91        0.39       -1.87   \n",
      "194         191        2.08        0.99       -0.62       -0.05        0.16   \n",
      "195         192        0.65        1.71        1.38        2.01       -0.83   \n",
      "196         193       -0.78       -0.26       -0.63        0.08        0.19   \n",
      "197         194        0.49       -1.18       -1.05       -0.38        0.51   \n",
      "198         195        1.15       -1.27       -0.03       -0.49        0.75   \n",
      "199         196        0.92        0.68       -0.32        0.21       -0.50   \n",
      "200         197       -1.23       -0.12        1.86       -0.65        0.57   \n",
      "201         198       -1.18       -0.92       -0.76       -0.44        0.45   \n",
      "202         199        0.52        1.19       -0.14        1.40        0.00   \n",
      "203         200        1.37        1.15       -1.24        1.56        0.52   \n",
      "204         NaN         NaN         NaN         NaN         NaN         NaN   \n",
      "205         NaN         NaN         NaN         NaN         NaN         NaN   \n",
      "206         NaN         NaN         NaN         NaN         NaN         NaN   \n",
      "207         NaN         NaN         NaN         NaN         NaN         NaN   \n",
      "208         NaN         NaN         NaN         NaN         NaN         NaN   \n",
      "209         NaN         NaN         NaN         NaN         NaN         NaN   \n",
      "\n",
      "    Unnamed: 16 Unnamed: 17  \n",
      "6         -0.21           1  \n",
      "7          0.53           0  \n",
      "8          0.80           0  \n",
      "9         -6.56           1  \n",
      "10        -0.29           0  \n",
      "11         0.61           0  \n",
      "12        -1.59           0  \n",
      "13         0.37           0  \n",
      "14         0.50           1  \n",
      "15         0.63           0  \n",
      "16         0.59           1  \n",
      "17        -0.35           0  \n",
      "18        -3.70           0  \n",
      "19        -0.62           0  \n",
      "20         0.70           0  \n",
      "21         0.02           1  \n",
      "22         0.43           0  \n",
      "23         0.74           0  \n",
      "24         0.77           0  \n",
      "25        -1.60           0  \n",
      "26         0.35           0  \n",
      "27        -2.01           0  \n",
      "28         0.39           1  \n",
      "29         0.31           0  \n",
      "30         0.68           0  \n",
      "31         0.79           0  \n",
      "32         0.44           0  \n",
      "33         0.41           0  \n",
      "34         0.40           1  \n",
      "35        -0.54           0  \n",
      "..          ...         ...  \n",
      "180        0.29           0  \n",
      "181       -0.49           0  \n",
      "182        0.53           1  \n",
      "183        0.45           1  \n",
      "184        0.06           0  \n",
      "185        0.65           0  \n",
      "186        0.05           0  \n",
      "187        0.13           0  \n",
      "188       -3.54           0  \n",
      "189        0.39           0  \n",
      "190        0.18           1  \n",
      "191        0.79           0  \n",
      "192        0.87           1  \n",
      "193        0.20           0  \n",
      "194        0.54           0  \n",
      "195       -3.05           0  \n",
      "196       -0.90           0  \n",
      "197        0.49           1  \n",
      "198        0.55           0  \n",
      "199       -0.67           0  \n",
      "200        0.66           0  \n",
      "201        0.57           0  \n",
      "202       -2.60           0  \n",
      "203       -0.01           0  \n",
      "204         NaN         NaN  \n",
      "205         NaN         NaN  \n",
      "206         NaN         NaN  \n",
      "207         NaN         NaN  \n",
      "208         NaN         NaN  \n",
      "209         NaN         NaN  \n",
      "\n",
      "[204 rows x 8 columns]\n"
     ]
    }
   ],
   "source": [
    "print(df_x)"
   ]
  },
  {
   "cell_type": "code",
   "execution_count": null,
   "metadata": {
    "collapsed": true
   },
   "outputs": [],
   "source": []
  }
 ],
 "metadata": {
  "kernelspec": {
   "display_name": "Python 3",
   "language": "python",
   "name": "python3"
  },
  "language_info": {
   "codemirror_mode": {
    "name": "ipython",
    "version": 3
   },
   "file_extension": ".py",
   "mimetype": "text/x-python",
   "name": "python",
   "nbconvert_exporter": "python",
   "pygments_lexer": "ipython3",
   "version": "3.6.2"
  }
 },
 "nbformat": 4,
 "nbformat_minor": 2
}
