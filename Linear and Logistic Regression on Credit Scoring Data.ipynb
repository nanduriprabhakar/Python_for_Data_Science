{
 "cells": [
  {
   "cell_type": "code",
   "execution_count": 5,
   "metadata": {
    "collapsed": true
   },
   "outputs": [],
   "source": [
    "import pandas as pd\n",
    "import numpy as np\n",
    "from sklearn import linear_model\n",
    "from sklearn.cross_validation import train_test_split\n"
   ]
  },
  {
   "cell_type": "code",
   "execution_count": 6,
   "metadata": {
    "collapsed": true
   },
   "outputs": [],
   "source": [
    "raw_data_set = pd.read_csv('Credit_Scoring_Data.csv')\n",
    "raw_data_set_test = pd.read_csv('Credit_Scoring_Data_test.csv')"
   ]
  },
  {
   "cell_type": "code",
   "execution_count": 66,
   "metadata": {},
   "outputs": [],
   "source": [
    "df_x=pd.DataFrame(data=raw_data_set)\n",
    "df_x=df_x.drop(df_x.columns[[0,1,2,3,4,5,6,7,8,9,18,19,20,21,22,23,24,25,26,27,28,29]],axis=1)\n",
    "df_x=df_x.drop(df_x.columns[[7]],axis=1)\n",
    "df_x=df_x.drop(df_x.index[[0]],axis=0)\n",
    "df_y=df_x.Y\n",
    "df_y=[int(i) for i in df_y]\n",
    "df_x=df_x.drop(df_x.columns[[6]],axis=1)\n",
    "lin_reg=linear_model.LinearRegression()\n",
    "lin_reg.fit(df_x,df_y)\n",
    "log_reg=linear_model.LogisticRegression().fit(df_x, df_y)"
   ]
  },
  {
   "cell_type": "code",
   "execution_count": 73,
   "metadata": {},
   "outputs": [],
   "source": [
    "df_x_test=pd.DataFrame(data=raw_data_set_test)\n",
    "df_x_test=df_x_test.drop(df_x_test.columns[[0,8,9,10,11,12,13,14,15,16,17,18,19,20]],axis=1)\n",
    "df_x_test=df_x_test.drop(df_x_test.index[[0]],axis=0)\n",
    "df_y_test=df_x_test.Y\n",
    "df_y_test=[int(i) for i in df_y_test]\n",
    "df_x_test=df_x_test.drop(df_x_test.columns[[6]],axis=1)\n",
    "linear_prediction=lin_reg.predict(df_x)\n",
    "logistic_prediction=log_reg.predict(df_x_test)"
   ]
  },
  {
   "cell_type": "code",
   "execution_count": 74,
   "metadata": {},
   "outputs": [],
   "source": [
    "from sklearn import metrics\n",
    "import matplotlib.pyplot as plt\n",
    "%matplotlib inline"
   ]
  },
  {
   "cell_type": "code",
   "execution_count": 75,
   "metadata": {},
   "outputs": [],
   "source": [
    "fpr, tpr, _ = metrics.roc_curve(df_y_test,logistic_prediction)"
   ]
  },
  {
   "cell_type": "code",
   "execution_count": 76,
   "metadata": {
    "collapsed": true
   },
   "outputs": [],
   "source": [
    "auc_of_model=metrics.auc(fpr,tpr)"
   ]
  },
  {
   "cell_type": "code",
   "execution_count": 77,
   "metadata": {},
   "outputs": [
    {
     "name": "stdout",
     "output_type": "stream",
     "text": [
      "0.713333333333\n"
     ]
    }
   ],
   "source": [
    "print(auc_of_model)"
   ]
  },
  {
   "cell_type": "code",
   "execution_count": 78,
   "metadata": {},
   "outputs": [
    {
     "data": {
      "text/plain": [
       "<matplotlib.text.Text at 0xd0504a8>"
      ]
     },
     "execution_count": 78,
     "metadata": {},
     "output_type": "execute_result"
    },
    {
     "data": {
      "image/png": "[encoded data removed]",
      "text/plain": [
       "<matplotlib.figure.Figure at 0xd0ed5f8>"
      ]
     },
     "metadata": {},
     "output_type": "display_data"
    }
   ],
   "source": [
    "plt.figure()\n",
    "plt.plot(fpr, tpr, label=\"ROC Curve with area %0.2f\" %auc_of_model)\n",
    "plt.xlabel(\"False positive rate\")\n",
    "plt.ylabel(\"True positive rate\")\n",
    "plt.title(\"ROC Curve with AUC being %0.3f\" %auc_of_model)"
   ]
  },
  {
   "cell_type": "code",
   "execution_count": null,
   "metadata": {
    "collapsed": true
   },
   "outputs": [],
   "source": []
  }
 ],
 "metadata": {
  "kernelspec": {
   "display_name": "Python 3",
   "language": "python",
   "name": "python3"
  },
  "language_info": {
   "codemirror_mode": {
    "name": "ipython",
    "version": 3
   },
   "file_extension": ".py",
   "mimetype": "text/x-python",
   "name": "python",
   "nbconvert_exporter": "python",
   "pygments_lexer": "ipython3",
   "version": "3.6.2"
  }
 },
 "nbformat": 4,
 "nbformat_minor": 2
}
